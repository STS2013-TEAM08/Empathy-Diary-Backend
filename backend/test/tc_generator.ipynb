{
 "cells": [
  {
   "cell_type": "code",
   "execution_count": 1,
   "metadata": {},
   "outputs": [],
   "source": [
    "\n",
    "import pandas as pd\n",
    "import numpy as np\n",
    "import random\n",
    "import string\n",
    "\n",
    "def generate_random_string(length):\n",
    "    return ''.join(random.choices(string.ascii_letters + string.digits, k=length))\n",
    "\n",
    "def main():\n",
    "    num_rows = 5001\n",
    "    num_cols = 5\n",
    "    df = pd.DataFrame(index=range(1, num_rows+1), columns=range(1, num_cols+1))\n",
    "    \n",
    "    # Filling data as per requirements\n",
    "    df[1] = df.index  # Row numbers in the first column\n",
    "    \n",
    "    # Ensuring unique 10-letter strings for the second column\n",
    "    unique_10_char_strings = set()\n",
    "    while len(unique_10_char_strings) < num_rows:\n",
    "        unique_10_char_strings.add(generate_random_string(10))\n",
    "    df[2] = list(unique_10_char_strings)\n",
    "    \n",
    "    # Random 2-letter strings for the third column (can be duplicated)\n",
    "    df[3] = [generate_random_string(2) for _ in range(num_rows)]\n",
    "    \n",
    "    # Random 10-letter strings for the fourth column (can be duplicated)\n",
    "    df[4] = [generate_random_string(10) for _ in range(num_rows)]\n",
    "    \n",
    "    # Duplicate the fourth column for the fifth column\n",
    "    df[5] = df[4]\n",
    "    \n",
    "    # Insert an empty row at the beginning\n",
    "    df.loc[0] = [\"\"] * num_cols\n",
    "    df = df.sort_index()\n",
    "    \n",
    "    # Save to CSV file\n",
    "    df.to_csv(\"userdata.csv\", index=False, header=False)\n",
    "\n",
    "if __name__ == \"__main__\":\n",
    "    main()\n"
   ]
  },
  {
   "cell_type": "code",
   "execution_count": null,
   "metadata": {},
   "outputs": [],
   "source": []
  }
 ],
 "metadata": {
  "kernelspec": {
   "display_name": "Python 3",
   "language": "python",
   "name": "python3"
  },
  "language_info": {
   "codemirror_mode": {
    "name": "ipython",
    "version": 3
   },
   "file_extension": ".py",
   "mimetype": "text/x-python",
   "name": "python",
   "nbconvert_exporter": "python",
   "pygments_lexer": "ipython3",
   "version": "3.10.12"
  }
 },
 "nbformat": 4,
 "nbformat_minor": 2
}
